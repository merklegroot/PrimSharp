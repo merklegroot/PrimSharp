{
 "metadata": {
  "kernelspec": {
   "display_name": ".NET (C#)",
   "language": "C#",
   "name": ".net-csharp"
  },
  "language_info": {
   "name": "C#"
  }
 },
 "cells": [
  {
   "cell_type": "code",
   "execution_count": null,
   "source": [
    "// #r \"./SomeLib/SomeLib.csproj\"\n",
    "\n",
    "// #r \"./jup/SomeLib/bin/Debug/net5.0/SomeLib.dll\"\n",
    "#r \"/home/doug/repo/PrimSharp/jup/SomeLib/bin/Debug/net5.0/SomeLib.dll\"\n",
    "\n",
    "using System.IO;\n",
    "\n",
    "public class Stuff\n",
    "{\n",
    "    public void Run()\n",
    "    {\n",
    "        Console.WriteLine(GetType().Assembly.CodeBase);\n",
    "        Console.WriteLine(Directory.GetCurrentDirectory().ToString());\n",
    "    }\n",
    "}\n",
    "\n",
    "new Stuff().Run();\n",
    "\n",
    "// Console.WriteLine(\"sdfsdf\");"
   ],
   "outputs": [
    {
     "data": {
      "text/plain": [
       "file:///usr/share/dotnet/shared/Microsoft.NETCore.App/5.0.8/System.Private.CoreLib.dll\n"
      ]
     },
     "metadata": {},
     "output_type": "display_data"
    },
    {
     "data": {
      "text/plain": [
       "/home/doug/repo/PrimSharp/src/PrimDesignLibTests/Connectors\n"
      ]
     },
     "metadata": {},
     "output_type": "display_data"
    }
   ],
   "metadata": {
    "dotnet_interactive": {
     "language": "csharp"
    }
   }
  }
 ],
 "nbformat": 4,
 "nbformat_minor": 2
}