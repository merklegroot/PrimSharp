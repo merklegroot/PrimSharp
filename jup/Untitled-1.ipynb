{
 "metadata": {
  "kernelspec": {
   "display_name": ".NET (C#)",
   "language": "C#",
   "name": ".net-csharp"
  },
  "language_info": {
   "name": "C#"
  }
 },
 "cells": [
  {
   "cell_type": "code",
   "execution_count": null,
   "source": [
    "#r \"../src/PrimDesignLib/bin/Debug/net5.0/PrimDesignLib.dll\"\n",
    "\n",
    "using PrimDesignLib;\n",
    "using System.Diagnostics;\n",
    "using System.IO;\n",
    "\n",
    "const string DesignName = \"PoolCap\";\n",
    "var contents = new StringBuilder()\n",
    "    .AppendLine(\"function main() {\")\n",
    "    .AppendLine($\"    return {new PoolCap().Render()};\")\n",
    "    .AppendLine(\"}\")\n",
    "    .AppendLine(\"module.exports = {main}\")\n",
    "    .Replace(\"\\r\\n\", \"\\n\")\n",
    "    .ToString();\n",
    "\n",
    "var sourceFileName = $\"{DesignName}.js\";\n",
    "var destFileName = $\"{DesignName}.stl\";\n",
    "File.WriteAllText(sourceFileName, contents);\n",
    "\n",
    "var processStartInfo = new ProcessStartInfo(\"jscad\", $\"{sourceFileName} -o {destFileName}\");\n",
    "//Process.Start(processStartInfo);\n",
    "Console.WriteLine($\"jscad {sourceFileName} -o {destFileName}\");\n",
    "\n",
    "// jscad mydesign.js -o test.stl # -- convert mydesign.js to test.stl\n"
   ],
   "outputs": [
    {
     "output_type": "display_data",
     "data": {
      "text/plain": [
       "jscad PoolCap.js -o PoolCap.stl\n"
      ]
     },
     "metadata": {}
    }
   ],
   "metadata": {
    "dotnet_interactive": {
     "language": "csharp"
    }
   }
  }
 ],
 "nbformat": 4,
 "nbformat_minor": 2
}